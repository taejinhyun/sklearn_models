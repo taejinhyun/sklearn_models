{
 "cells": [
  {
   "cell_type": "markdown",
   "metadata": {},
   "source": [
    "**About the dataset:**\n",
    "\n",
    "US Stocks Fundamentals (XBRL)\n",
    "\n",
    "출처 : kaggle(https://www.kaggle.com/usfundamentals/us-stocks-fundamentals)\n",
    "\n",
    "Kaggle에서는 다음과 같은 데이터를 제공한다.\n",
    "* companies.csv\n",
    "* indicators_by_company.csv\n",
    "\n",
    "``` 12,173개 기업\n",
    "8,529 고유 지표\n",
    "7년간의 데이터(2010~2016)\n",
    "```\n",
    "\n",
    "손익 계산서, 대차 대조표 및 현금 흐름과 같은 미국 주식의 기본 데이터가 들어 있습니다.\n",
    "\n",
    "측정방법 : XBRL(확장가능한 사업 보고 언어)\n",
    "- *자유롭게 이용가능하고 사업 정보를 교환하는 국제 표준이다. 사업 보고에서 흔하게 필요로 하는 의미론적의 의미의 표현을 가능하게 한다.*"
   ]
  },
  {
   "cell_type": "code",
   "execution_count": 3,
   "metadata": {
    "collapsed": false
   },
   "outputs": [],
   "source": [
    "import pandas as pd\n",
    "com_data = pd.read_csv(\"./companies.csv\")\n",
    "ind_data = pd.read_csv(\"./indicators_by_company.csv\")"
   ]
  },
  {
   "cell_type": "code",
   "execution_count": 4,
   "metadata": {
    "collapsed": false
   },
   "outputs": [
    {
     "data": {
      "text/html": [
       "<div>\n",
       "<table border=\"1\" class=\"dataframe\">\n",
       "  <thead>\n",
       "    <tr style=\"text-align: right;\">\n",
       "      <th></th>\n",
       "      <th>company_id</th>\n",
       "      <th>name_latest</th>\n",
       "      <th>names_previous</th>\n",
       "    </tr>\n",
       "  </thead>\n",
       "  <tbody>\n",
       "    <tr>\n",
       "      <th>0</th>\n",
       "      <td>1000045</td>\n",
       "      <td>Nicholas Financial Inc</td>\n",
       "      <td>NaN</td>\n",
       "    </tr>\n",
       "    <tr>\n",
       "      <th>1</th>\n",
       "      <td>1000180</td>\n",
       "      <td>Sandisk Corp</td>\n",
       "      <td>NaN</td>\n",
       "    </tr>\n",
       "    <tr>\n",
       "      <th>2</th>\n",
       "      <td>1000209</td>\n",
       "      <td>Medallion Financial Corp</td>\n",
       "      <td>NaN</td>\n",
       "    </tr>\n",
       "    <tr>\n",
       "      <th>3</th>\n",
       "      <td>1000228</td>\n",
       "      <td>Henry Schein Inc</td>\n",
       "      <td>NaN</td>\n",
       "    </tr>\n",
       "    <tr>\n",
       "      <th>4</th>\n",
       "      <td>1000229</td>\n",
       "      <td>Core Laboratories N V</td>\n",
       "      <td>NaN</td>\n",
       "    </tr>\n",
       "  </tbody>\n",
       "</table>\n",
       "</div>"
      ],
      "text/plain": [
       "   company_id               name_latest names_previous\n",
       "0     1000045    Nicholas Financial Inc            NaN\n",
       "1     1000180              Sandisk Corp            NaN\n",
       "2     1000209  Medallion Financial Corp            NaN\n",
       "3     1000228          Henry Schein Inc            NaN\n",
       "4     1000229     Core Laboratories N V            NaN"
      ]
     },
     "execution_count": 4,
     "metadata": {},
     "output_type": "execute_result"
    }
   ],
   "source": [
    "com_data.head()"
   ]
  },
  {
   "cell_type": "code",
   "execution_count": 8,
   "metadata": {
    "collapsed": false
   },
   "outputs": [
    {
     "data": {
      "text/plain": [
       "(12173, 3)"
      ]
     },
     "execution_count": 8,
     "metadata": {},
     "output_type": "execute_result"
    }
   ],
   "source": [
    "com_data.shape"
   ]
  },
  {
   "cell_type": "markdown",
   "metadata": {},
   "source": [
    "- companies.csv\n",
    " 1. company_id : 회사 id\n",
    " 2. name_latest : 최근 회사명\n",
    " 3. names_previous : 이전 회사명"
   ]
  },
  {
   "cell_type": "code",
   "execution_count": 5,
   "metadata": {
    "collapsed": false
   },
   "outputs": [
    {
     "data": {
      "text/html": [
       "<div>\n",
       "<table border=\"1\" class=\"dataframe\">\n",
       "  <thead>\n",
       "    <tr style=\"text-align: right;\">\n",
       "      <th></th>\n",
       "      <th>company_id</th>\n",
       "      <th>indicator_id</th>\n",
       "      <th>2010</th>\n",
       "      <th>2011</th>\n",
       "      <th>2012</th>\n",
       "      <th>2013</th>\n",
       "      <th>2014</th>\n",
       "      <th>2015</th>\n",
       "      <th>2016</th>\n",
       "    </tr>\n",
       "  </thead>\n",
       "  <tbody>\n",
       "    <tr>\n",
       "      <th>0</th>\n",
       "      <td>1000045</td>\n",
       "      <td>AccountsPayableAndAccruedLiabilitiesCurrentAnd...</td>\n",
       "      <td>NaN</td>\n",
       "      <td>6612429.0</td>\n",
       "      <td>7405579.0</td>\n",
       "      <td>8924919.0</td>\n",
       "      <td>7841070.0</td>\n",
       "      <td>5839000.0</td>\n",
       "      <td>NaN</td>\n",
       "    </tr>\n",
       "    <tr>\n",
       "      <th>1</th>\n",
       "      <td>1000045</td>\n",
       "      <td>AccumulatedDepreciationDepletionAndAmortizatio...</td>\n",
       "      <td>NaN</td>\n",
       "      <td>NaN</td>\n",
       "      <td>2111343.0</td>\n",
       "      <td>2242703.0</td>\n",
       "      <td>2236449.0</td>\n",
       "      <td>2462000.0</td>\n",
       "      <td>NaN</td>\n",
       "    </tr>\n",
       "    <tr>\n",
       "      <th>2</th>\n",
       "      <td>1000045</td>\n",
       "      <td>AdjustmentForAmortization</td>\n",
       "      <td>NaN</td>\n",
       "      <td>NaN</td>\n",
       "      <td>-11482251.0</td>\n",
       "      <td>-13490892.0</td>\n",
       "      <td>-13852305.0</td>\n",
       "      <td>-13811000.0</td>\n",
       "      <td>NaN</td>\n",
       "    </tr>\n",
       "    <tr>\n",
       "      <th>3</th>\n",
       "      <td>1000045</td>\n",
       "      <td>Assets</td>\n",
       "      <td>NaN</td>\n",
       "      <td>257236034.0</td>\n",
       "      <td>263835468.0</td>\n",
       "      <td>283429579.0</td>\n",
       "      <td>302528591.0</td>\n",
       "      <td>325309000.0</td>\n",
       "      <td>NaN</td>\n",
       "    </tr>\n",
       "    <tr>\n",
       "      <th>4</th>\n",
       "      <td>1000045</td>\n",
       "      <td>AssetsHeldForSaleAtCarryingValue</td>\n",
       "      <td>NaN</td>\n",
       "      <td>1373001.0</td>\n",
       "      <td>1203664.0</td>\n",
       "      <td>1696330.0</td>\n",
       "      <td>NaN</td>\n",
       "      <td>NaN</td>\n",
       "      <td>NaN</td>\n",
       "    </tr>\n",
       "  </tbody>\n",
       "</table>\n",
       "</div>"
      ],
      "text/plain": [
       "   company_id                                       indicator_id  2010  \\\n",
       "0     1000045  AccountsPayableAndAccruedLiabilitiesCurrentAnd...   NaN   \n",
       "1     1000045  AccumulatedDepreciationDepletionAndAmortizatio...   NaN   \n",
       "2     1000045                          AdjustmentForAmortization   NaN   \n",
       "3     1000045                                             Assets   NaN   \n",
       "4     1000045                   AssetsHeldForSaleAtCarryingValue   NaN   \n",
       "\n",
       "          2011         2012         2013         2014         2015  2016  \n",
       "0    6612429.0    7405579.0    8924919.0    7841070.0    5839000.0   NaN  \n",
       "1          NaN    2111343.0    2242703.0    2236449.0    2462000.0   NaN  \n",
       "2          NaN  -11482251.0  -13490892.0  -13852305.0  -13811000.0   NaN  \n",
       "3  257236034.0  263835468.0  283429579.0  302528591.0  325309000.0   NaN  \n",
       "4    1373001.0    1203664.0    1696330.0          NaN          NaN   NaN  "
      ]
     },
     "execution_count": 5,
     "metadata": {},
     "output_type": "execute_result"
    }
   ],
   "source": [
    "ind_data.head()"
   ]
  },
  {
   "cell_type": "code",
   "execution_count": 18,
   "metadata": {
    "collapsed": false
   },
   "outputs": [
    {
     "name": "stdout",
     "output_type": "stream",
     "text": [
      "<class 'pandas.core.frame.DataFrame'>\n",
      "RangeIndex: 1907883 entries, 0 to 1907882\n",
      "Data columns (total 9 columns):\n",
      "company_id      int64\n",
      "indicator_id    object\n",
      "2010            float64\n",
      "2011            float64\n",
      "2012            float64\n",
      "2013            float64\n",
      "2014            float64\n",
      "2015            float64\n",
      "2016            float64\n",
      "dtypes: float64(7), int64(1), object(1)\n",
      "memory usage: 131.0+ MB\n"
     ]
    }
   ],
   "source": [
    "ind_data.info()"
   ]
  },
  {
   "cell_type": "code",
   "execution_count": 7,
   "metadata": {
    "collapsed": false
   },
   "outputs": [
    {
     "data": {
      "text/plain": [
       "(1907883, 9)"
      ]
     },
     "execution_count": 7,
     "metadata": {},
     "output_type": "execute_result"
    }
   ],
   "source": [
    "ind_data.shape"
   ]
  },
  {
   "cell_type": "code",
   "execution_count": 10,
   "metadata": {
    "collapsed": false
   },
   "outputs": [
    {
     "data": {
      "text/plain": [
       "8529"
      ]
     },
     "execution_count": 10,
     "metadata": {},
     "output_type": "execute_result"
    }
   ],
   "source": [
    "len(ind_data['indicator_id'].unique())"
   ]
  },
  {
   "cell_type": "code",
   "execution_count": 17,
   "metadata": {
    "collapsed": false
   },
   "outputs": [
    {
     "data": {
      "text/plain": [
       "array(['AccountsPayableAndAccruedLiabilitiesCurrentAndNoncurrent',\n",
       "       'AccumulatedDepreciationDepletionAndAmortizationPropertyPlantAndEquipment',\n",
       "       'AdjustmentForAmortization', 'Assets',\n",
       "       'AssetsHeldForSaleAtCarryingValue'], dtype=object)"
      ]
     },
     "execution_count": 17,
     "metadata": {},
     "output_type": "execute_result"
    }
   ],
   "source": [
    "ind_data['indicator_id'].unique()[:5]"
   ]
  },
  {
   "cell_type": "markdown",
   "metadata": {},
   "source": [
    "- indicators_by_company.csv\n",
    "    1. company_id : 회사 id\n",
    "    2. indicator_id : 지표명\n",
    "    3. 2010~2016년까지의 지표들의 값"
   ]
  },
  {
   "cell_type": "markdown",
   "metadata": {},
   "source": [
    "각 지표들에 대한 정보는 [여기](https://www.calcbench.com/element/CommonStockSharesIssued)에 검색하여 알아볼수 있다."
   ]
  },
  {
   "cell_type": "markdown",
   "metadata": {},
   "source": [
    "**Target Variable Exploration:**\n",
    "\n",
    "변수들을 살펴본 결과 각 변수들은 경제지표로서 다른 변수들에 영향을 많이 받고(한 변수가 다른변수를 파생시킨다.) 따라서 타겟을 지정하기 보다는 기업에 대한 가치평가 방법으로 타겟 변수를 생성하려고 시도 하였습니다. \n",
    "\n",
    "* 기업가치평가는 [다음](https://namu.wiki/w/%EA%B8%B0%EC%97%85%EA%B0%80%EC%B9%98%ED%8F%89%EA%B0%80)에서 볼 수 있습니다."
   ]
  },
  {
   "cell_type": "markdown",
   "metadata": {},
   "source": [
    "**result from the seminar:**\n",
    "\n",
    "Regression에 대한 데이터로서 살펴보았지만 변수의 개수가 너무 방대하고(8529개) 경제지표에 대한 도메인지식이 없어 \n",
    "다양한 Regression 모델들을 수행하고자하는 목적에는 부합하지 않다고 생각되어 이 데이터에 대한 분석은 진행하지 않기로 하였습니다."
   ]
  }
 ],
 "metadata": {
  "kernelspec": {
   "display_name": "Python 3",
   "language": "python",
   "name": "python3"
  },
  "language_info": {
   "codemirror_mode": {
    "name": "ipython",
    "version": 3
   },
   "file_extension": ".py",
   "mimetype": "text/x-python",
   "name": "python",
   "nbconvert_exporter": "python",
   "pygments_lexer": "ipython3",
   "version": "3.5.2"
  }
 },
 "nbformat": 4,
 "nbformat_minor": 0
}
